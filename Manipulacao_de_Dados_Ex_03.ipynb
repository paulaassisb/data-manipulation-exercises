{
  "nbformat": 4,
  "nbformat_minor": 0,
  "metadata": {
    "colab": {
      "name": "Manipulacao_de_Dados_Ex_03.ipynb",
      "provenance": [],
      "collapsed_sections": [],
      "include_colab_link": true
    },
    "kernelspec": {
      "display_name": "Python 3",
      "language": "python",
      "name": "python3"
    },
    "language_info": {
      "codemirror_mode": {
        "name": "ipython",
        "version": 3
      },
      "file_extension": ".py",
      "mimetype": "text/x-python",
      "name": "python",
      "nbconvert_exporter": "python",
      "pygments_lexer": "ipython3",
      "version": "3.7.9"
    }
  },
  "cells": [
    {
      "cell_type": "markdown",
      "metadata": {
        "id": "view-in-github",
        "colab_type": "text"
      },
      "source": [
        "<a href=\"https://colab.research.google.com/github/paulaassisb/data-manipulation-exercises/blob/master/Manipulacao_de_Dados_Ex_03.ipynb\" target=\"_parent\"><img src=\"https://colab.research.google.com/assets/colab-badge.svg\" alt=\"Open In Colab\"/></a>"
      ]
    },
    {
      "cell_type": "markdown",
      "metadata": {
        "id": "hAcVCqunNHPq"
      },
      "source": [
        "![](https://i.imgur.com/JsMvGnP.png)"
      ]
    },
    {
      "cell_type": "markdown",
      "metadata": {
        "id": "xlIVUULwujKa"
      },
      "source": [
        "\n",
        "## Exercícios de manipulação de dados - Parte 3"
      ]
    },
    {
      "cell_type": "markdown",
      "metadata": {
        "id": "RoztT_BzujKc"
      },
      "source": [
        "Neste Jupyter notebook você irá resolver uma exercícios utilizando a linguagem Python e a biblioteca Pandas.\n",
        "\n",
        "Todos os datasets utilizados nos exercícios estão salvos na pasta **datasets**.\n",
        "\n",
        "Todo o seu código deve ser executado neste Jupyter Notebook. Por fim, se desejar, revise as respostas com o seu mentor."
      ]
    },
    {
      "cell_type": "markdown",
      "metadata": {
        "id": "VYyMlLtIujKe"
      },
      "source": [
        "### Tarefa 1. Importe o dataset e salve os dados em um dataframe\n",
        "\n",
        "Os dados estão salvos no arquivo ***datasets/users_dataset.csv***.\n",
        "\n",
        "Salve os dados em uma variável de nome *users*."
      ]
    },
    {
      "cell_type": "code",
      "metadata": {
        "colab": {
          "base_uri": "https://localhost:8080/",
          "height": 204
        },
        "id": "MEd1ga2Qq0Zx",
        "outputId": "17c872c4-580b-4d14-f012-916320a3da97"
      },
      "source": [
        "import pandas as pd\r\n",
        "users = pd.read_csv('https://raw.githubusercontent.com/paulaassisb/data-manipulation-exercises/master/datasets/users_dataset.csv', sep='|')\r\n",
        "users.head()"
      ],
      "execution_count": null,
      "outputs": [
        {
          "output_type": "execute_result",
          "data": {
            "text/html": [
              "<div>\n",
              "<style scoped>\n",
              "    .dataframe tbody tr th:only-of-type {\n",
              "        vertical-align: middle;\n",
              "    }\n",
              "\n",
              "    .dataframe tbody tr th {\n",
              "        vertical-align: top;\n",
              "    }\n",
              "\n",
              "    .dataframe thead th {\n",
              "        text-align: right;\n",
              "    }\n",
              "</style>\n",
              "<table border=\"1\" class=\"dataframe\">\n",
              "  <thead>\n",
              "    <tr style=\"text-align: right;\">\n",
              "      <th></th>\n",
              "      <th>user_id</th>\n",
              "      <th>age</th>\n",
              "      <th>gender</th>\n",
              "      <th>occupation</th>\n",
              "      <th>zip_code</th>\n",
              "    </tr>\n",
              "  </thead>\n",
              "  <tbody>\n",
              "    <tr>\n",
              "      <th>0</th>\n",
              "      <td>1</td>\n",
              "      <td>24</td>\n",
              "      <td>M</td>\n",
              "      <td>technician</td>\n",
              "      <td>85711</td>\n",
              "    </tr>\n",
              "    <tr>\n",
              "      <th>1</th>\n",
              "      <td>2</td>\n",
              "      <td>53</td>\n",
              "      <td>F</td>\n",
              "      <td>other</td>\n",
              "      <td>94043</td>\n",
              "    </tr>\n",
              "    <tr>\n",
              "      <th>2</th>\n",
              "      <td>3</td>\n",
              "      <td>23</td>\n",
              "      <td>M</td>\n",
              "      <td>writer</td>\n",
              "      <td>32067</td>\n",
              "    </tr>\n",
              "    <tr>\n",
              "      <th>3</th>\n",
              "      <td>4</td>\n",
              "      <td>24</td>\n",
              "      <td>M</td>\n",
              "      <td>technician</td>\n",
              "      <td>43537</td>\n",
              "    </tr>\n",
              "    <tr>\n",
              "      <th>4</th>\n",
              "      <td>5</td>\n",
              "      <td>33</td>\n",
              "      <td>F</td>\n",
              "      <td>other</td>\n",
              "      <td>15213</td>\n",
              "    </tr>\n",
              "  </tbody>\n",
              "</table>\n",
              "</div>"
            ],
            "text/plain": [
              "   user_id  age gender  occupation zip_code\n",
              "0        1   24      M  technician    85711\n",
              "1        2   53      F       other    94043\n",
              "2        3   23      M      writer    32067\n",
              "3        4   24      M  technician    43537\n",
              "4        5   33      F       other    15213"
            ]
          },
          "metadata": {
            "tags": []
          },
          "execution_count": 3
        }
      ]
    },
    {
      "cell_type": "markdown",
      "metadata": {
        "id": "GpGg63VvujKh"
      },
      "source": [
        "### Tarefa 2. Descubra qual a idade média por ocupação.\n",
        "\n",
        "*Dica: use a função groupby do Pandas na coluna occupation*"
      ]
    },
    {
      "cell_type": "code",
      "metadata": {
        "colab": {
          "base_uri": "https://localhost:8080/"
        },
        "id": "xCzIIT60ujKi",
        "outputId": "e92b2f8b-608d-433d-d72c-64b05c533224"
      },
      "source": [
        "idade_media_ocupacao = users.groupby(['occupation']).age.mean()\r\n",
        "idade_media_ocupacao"
      ],
      "execution_count": null,
      "outputs": [
        {
          "output_type": "execute_result",
          "data": {
            "text/plain": [
              "occupation\n",
              "administrator    38.746835\n",
              "artist           31.392857\n",
              "doctor           43.571429\n",
              "educator         42.010526\n",
              "engineer         36.388060\n",
              "entertainment    29.222222\n",
              "executive        38.718750\n",
              "healthcare       41.562500\n",
              "homemaker        32.571429\n",
              "lawyer           36.750000\n",
              "librarian        40.000000\n",
              "marketing        37.615385\n",
              "none             26.555556\n",
              "other            34.523810\n",
              "programmer       33.121212\n",
              "retired          63.071429\n",
              "salesman         35.666667\n",
              "scientist        35.548387\n",
              "student          22.081633\n",
              "technician       33.148148\n",
              "writer           36.311111\n",
              "Name: age, dtype: float64"
            ]
          },
          "metadata": {
            "tags": []
          },
          "execution_count": 4
        }
      ]
    },
    {
      "cell_type": "markdown",
      "metadata": {
        "id": "y1R0vw2XujKn"
      },
      "source": [
        "### Tarefa 3. Para cada ocupação descubra a idade mínima e máxima."
      ]
    },
    {
      "cell_type": "code",
      "metadata": {
        "colab": {
          "base_uri": "https://localhost:8080/"
        },
        "id": "GhhaqSCtujKp",
        "outputId": "e7cef4a0-244a-441b-c5a1-97ed0be99548"
      },
      "source": [
        "users.groupby(['occupation']).age.max()"
      ],
      "execution_count": null,
      "outputs": [
        {
          "output_type": "execute_result",
          "data": {
            "text/plain": [
              "occupation\n",
              "administrator    70\n",
              "artist           48\n",
              "doctor           64\n",
              "educator         63\n",
              "engineer         70\n",
              "entertainment    50\n",
              "executive        69\n",
              "healthcare       62\n",
              "homemaker        50\n",
              "lawyer           53\n",
              "librarian        69\n",
              "marketing        55\n",
              "none             55\n",
              "other            64\n",
              "programmer       63\n",
              "retired          73\n",
              "salesman         66\n",
              "scientist        55\n",
              "student          42\n",
              "technician       55\n",
              "writer           60\n",
              "Name: age, dtype: int64"
            ]
          },
          "metadata": {
            "tags": []
          },
          "execution_count": 5
        }
      ]
    },
    {
      "cell_type": "code",
      "metadata": {
        "colab": {
          "base_uri": "https://localhost:8080/"
        },
        "id": "UV0lzOSTrSS3",
        "outputId": "ed06f069-b888-4212-e1de-b829dade8b8c"
      },
      "source": [
        "users.groupby(['occupation']).age.min()"
      ],
      "execution_count": null,
      "outputs": [
        {
          "output_type": "execute_result",
          "data": {
            "text/plain": [
              "occupation\n",
              "administrator    21\n",
              "artist           19\n",
              "doctor           28\n",
              "educator         23\n",
              "engineer         22\n",
              "entertainment    15\n",
              "executive        22\n",
              "healthcare       22\n",
              "homemaker        20\n",
              "lawyer           21\n",
              "librarian        23\n",
              "marketing        24\n",
              "none             11\n",
              "other            13\n",
              "programmer       20\n",
              "retired          51\n",
              "salesman         18\n",
              "scientist        23\n",
              "student           7\n",
              "technician       21\n",
              "writer           18\n",
              "Name: age, dtype: int64"
            ]
          },
          "metadata": {
            "tags": []
          },
          "execution_count": 6
        }
      ]
    },
    {
      "cell_type": "markdown",
      "metadata": {
        "id": "DT-Lcsz2ujKz"
      },
      "source": [
        "### Tarefa 4. Para cada combinação de ocupação e sexo, calcule a idade média.\n",
        "\n",
        "Exemplo:\n",
        "\n",
        "```\n",
        "occupation     gender\n",
        "administrator  F         40.638889\n",
        "               M         37.162791\n",
        "artist         F         30.307692\n",
        "               M         32.333333\n",
        "```"
      ]
    },
    {
      "cell_type": "code",
      "metadata": {
        "colab": {
          "base_uri": "https://localhost:8080/"
        },
        "id": "aMIV75fTujKz",
        "outputId": "cf23f362-1217-41d8-c0ce-75eca180f158"
      },
      "source": [
        "users.groupby(by = ['occupation','gender']).age.mean()"
      ],
      "execution_count": null,
      "outputs": [
        {
          "output_type": "execute_result",
          "data": {
            "text/plain": [
              "occupation     gender\n",
              "administrator  F         40.638889\n",
              "               M         37.162791\n",
              "artist         F         30.307692\n",
              "               M         32.333333\n",
              "doctor         M         43.571429\n",
              "educator       F         39.115385\n",
              "               M         43.101449\n",
              "engineer       F         29.500000\n",
              "               M         36.600000\n",
              "entertainment  F         31.000000\n",
              "               M         29.000000\n",
              "executive      F         44.000000\n",
              "               M         38.172414\n",
              "healthcare     F         39.818182\n",
              "               M         45.400000\n",
              "homemaker      F         34.166667\n",
              "               M         23.000000\n",
              "lawyer         F         39.500000\n",
              "               M         36.200000\n",
              "librarian      F         40.000000\n",
              "               M         40.000000\n",
              "marketing      F         37.200000\n",
              "               M         37.875000\n",
              "none           F         36.500000\n",
              "               M         18.600000\n",
              "other          F         35.472222\n",
              "               M         34.028986\n",
              "programmer     F         32.166667\n",
              "               M         33.216667\n",
              "retired        F         70.000000\n",
              "               M         62.538462\n",
              "salesman       F         27.000000\n",
              "               M         38.555556\n",
              "scientist      F         28.333333\n",
              "               M         36.321429\n",
              "student        F         20.750000\n",
              "               M         22.669118\n",
              "technician     F         38.000000\n",
              "               M         32.961538\n",
              "writer         F         37.631579\n",
              "               M         35.346154\n",
              "Name: age, dtype: float64"
            ]
          },
          "metadata": {
            "tags": []
          },
          "execution_count": 7
        }
      ]
    },
    {
      "cell_type": "markdown",
      "metadata": {
        "id": "B2TxLDyoujK3"
      },
      "source": [
        "### Tarefa 5. Para cada ocupação calcule a porcentagem de homens e mulheres.\n",
        "\n",
        "Exemplo:\n",
        "\n",
        "```\n",
        "occupation     gender\n",
        "administrator  F          45.569620\n",
        "               M          54.430380\n",
        "artist         F          46.428571\n",
        "               M          53.571429\n",
        "doctor         M         100.000000\n",
        "educator       F          27.368421\n",
        "               M          72.631579\n",
        "```"
      ]
    },
    {
      "cell_type": "code",
      "metadata": {
        "colab": {
          "base_uri": "https://localhost:8080/"
        },
        "id": "XnBH1LMuujK4",
        "outputId": "31b25dd3-2119-4e2d-f045-86cee532a79e"
      },
      "source": [
        "(users.query('gender==\"F\"').occupation.value_counts()/users.occupation.value_counts())*100"
      ],
      "execution_count": null,
      "outputs": [
        {
          "output_type": "execute_result",
          "data": {
            "text/plain": [
              "administrator    45.569620\n",
              "artist           46.428571\n",
              "doctor                 NaN\n",
              "educator         27.368421\n",
              "engineer          2.985075\n",
              "entertainment    11.111111\n",
              "executive         9.375000\n",
              "healthcare       68.750000\n",
              "homemaker        85.714286\n",
              "lawyer           16.666667\n",
              "librarian        56.862745\n",
              "marketing        38.461538\n",
              "none             44.444444\n",
              "other            34.285714\n",
              "programmer        9.090909\n",
              "retired           7.142857\n",
              "salesman         25.000000\n",
              "scientist         9.677419\n",
              "student          30.612245\n",
              "technician        3.703704\n",
              "writer           42.222222\n",
              "Name: occupation, dtype: float64"
            ]
          },
          "metadata": {
            "tags": []
          },
          "execution_count": 8
        }
      ]
    },
    {
      "cell_type": "markdown",
      "metadata": {
        "id": "Wkw71CayujK-"
      },
      "source": [
        "**Parabéns! Você chegou ao fim!**"
      ]
    }
  ]
}